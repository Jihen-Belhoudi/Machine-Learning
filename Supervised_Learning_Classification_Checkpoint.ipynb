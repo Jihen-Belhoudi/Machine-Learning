{
  "nbformat": 4,
  "nbformat_minor": 0,
  "metadata": {
    "colab": {
      "provenance": []
    },
    "kernelspec": {
      "name": "python3",
      "display_name": "Python 3"
    },
    "language_info": {
      "name": "python"
    }
  },
  "cells": [
    {
      "cell_type": "code",
      "execution_count": null,
      "metadata": {
        "id": "wEnKYv6DbU-n"
      },
      "outputs": [],
      "source": [
        "#Importing libraries\n",
        "import numpy as np\n",
        "import pandas as pd\n",
        "import plotly.express as px\n",
        "import matplotlib.pyplot as plt\n",
        "from sklearn.metrics import RocCurveDisplay\n",
        "from sklearn.model_selection import train_test_split\n",
        "from sklearn.linear_model import LinearRegression\n",
        "from sklearn.preprocessing import PolynomialFeatures\n",
        "from sklearn.metrics import mean_squared_error\n",
        "from sklearn import metrics\n",
        "#Reading dataset from the CSV file\n",
        "with open(\"/content/titanic-passengers (1).csv\", 'r') as file:\n",
        "    df = pd.read_csv(file, sep=\";\")\n"
      ]
    },
    {
      "cell_type": "code",
      "source": [
        "df.describe()"
      ],
      "metadata": {
        "colab": {
          "base_uri": "https://localhost:8080/",
          "height": 300
        },
        "id": "_OJ14cVVcvJ3",
        "outputId": "4a7fcc6a-bda0-434a-8d7e-322bf0dcadf0"
      },
      "execution_count": null,
      "outputs": [
        {
          "output_type": "execute_result",
          "data": {
            "text/plain": [
              "       PassengerId      Pclass         Age       SibSp       Parch        Fare\n",
              "count   891.000000  891.000000  714.000000  891.000000  891.000000  891.000000\n",
              "mean    446.000000    2.308642   29.699118    0.523008    0.381594   32.204208\n",
              "std     257.353842    0.836071   14.526497    1.102743    0.806057   49.693429\n",
              "min       1.000000    1.000000    0.420000    0.000000    0.000000    0.000000\n",
              "25%     223.500000    2.000000   20.125000    0.000000    0.000000    7.910400\n",
              "50%     446.000000    3.000000   28.000000    0.000000    0.000000   14.454200\n",
              "75%     668.500000    3.000000   38.000000    1.000000    0.000000   31.000000\n",
              "max     891.000000    3.000000   80.000000    8.000000    6.000000  512.329200"
            ],
            "text/html": [
              "\n",
              "  <div id=\"df-22051a90-83fc-47c6-988c-a84f5f724ce3\" class=\"colab-df-container\">\n",
              "    <div>\n",
              "<style scoped>\n",
              "    .dataframe tbody tr th:only-of-type {\n",
              "        vertical-align: middle;\n",
              "    }\n",
              "\n",
              "    .dataframe tbody tr th {\n",
              "        vertical-align: top;\n",
              "    }\n",
              "\n",
              "    .dataframe thead th {\n",
              "        text-align: right;\n",
              "    }\n",
              "</style>\n",
              "<table border=\"1\" class=\"dataframe\">\n",
              "  <thead>\n",
              "    <tr style=\"text-align: right;\">\n",
              "      <th></th>\n",
              "      <th>PassengerId</th>\n",
              "      <th>Pclass</th>\n",
              "      <th>Age</th>\n",
              "      <th>SibSp</th>\n",
              "      <th>Parch</th>\n",
              "      <th>Fare</th>\n",
              "    </tr>\n",
              "  </thead>\n",
              "  <tbody>\n",
              "    <tr>\n",
              "      <th>count</th>\n",
              "      <td>891.000000</td>\n",
              "      <td>891.000000</td>\n",
              "      <td>714.000000</td>\n",
              "      <td>891.000000</td>\n",
              "      <td>891.000000</td>\n",
              "      <td>891.000000</td>\n",
              "    </tr>\n",
              "    <tr>\n",
              "      <th>mean</th>\n",
              "      <td>446.000000</td>\n",
              "      <td>2.308642</td>\n",
              "      <td>29.699118</td>\n",
              "      <td>0.523008</td>\n",
              "      <td>0.381594</td>\n",
              "      <td>32.204208</td>\n",
              "    </tr>\n",
              "    <tr>\n",
              "      <th>std</th>\n",
              "      <td>257.353842</td>\n",
              "      <td>0.836071</td>\n",
              "      <td>14.526497</td>\n",
              "      <td>1.102743</td>\n",
              "      <td>0.806057</td>\n",
              "      <td>49.693429</td>\n",
              "    </tr>\n",
              "    <tr>\n",
              "      <th>min</th>\n",
              "      <td>1.000000</td>\n",
              "      <td>1.000000</td>\n",
              "      <td>0.420000</td>\n",
              "      <td>0.000000</td>\n",
              "      <td>0.000000</td>\n",
              "      <td>0.000000</td>\n",
              "    </tr>\n",
              "    <tr>\n",
              "      <th>25%</th>\n",
              "      <td>223.500000</td>\n",
              "      <td>2.000000</td>\n",
              "      <td>20.125000</td>\n",
              "      <td>0.000000</td>\n",
              "      <td>0.000000</td>\n",
              "      <td>7.910400</td>\n",
              "    </tr>\n",
              "    <tr>\n",
              "      <th>50%</th>\n",
              "      <td>446.000000</td>\n",
              "      <td>3.000000</td>\n",
              "      <td>28.000000</td>\n",
              "      <td>0.000000</td>\n",
              "      <td>0.000000</td>\n",
              "      <td>14.454200</td>\n",
              "    </tr>\n",
              "    <tr>\n",
              "      <th>75%</th>\n",
              "      <td>668.500000</td>\n",
              "      <td>3.000000</td>\n",
              "      <td>38.000000</td>\n",
              "      <td>1.000000</td>\n",
              "      <td>0.000000</td>\n",
              "      <td>31.000000</td>\n",
              "    </tr>\n",
              "    <tr>\n",
              "      <th>max</th>\n",
              "      <td>891.000000</td>\n",
              "      <td>3.000000</td>\n",
              "      <td>80.000000</td>\n",
              "      <td>8.000000</td>\n",
              "      <td>6.000000</td>\n",
              "      <td>512.329200</td>\n",
              "    </tr>\n",
              "  </tbody>\n",
              "</table>\n",
              "</div>\n",
              "    <div class=\"colab-df-buttons\">\n",
              "\n",
              "  <div class=\"colab-df-container\">\n",
              "    <button class=\"colab-df-convert\" onclick=\"convertToInteractive('df-22051a90-83fc-47c6-988c-a84f5f724ce3')\"\n",
              "            title=\"Convert this dataframe to an interactive table.\"\n",
              "            style=\"display:none;\">\n",
              "\n",
              "  <svg xmlns=\"http://www.w3.org/2000/svg\" height=\"24px\" viewBox=\"0 -960 960 960\">\n",
              "    <path d=\"M120-120v-720h720v720H120Zm60-500h600v-160H180v160Zm220 220h160v-160H400v160Zm0 220h160v-160H400v160ZM180-400h160v-160H180v160Zm440 0h160v-160H620v160ZM180-180h160v-160H180v160Zm440 0h160v-160H620v160Z\"/>\n",
              "  </svg>\n",
              "    </button>\n",
              "\n",
              "  <style>\n",
              "    .colab-df-container {\n",
              "      display:flex;\n",
              "      gap: 12px;\n",
              "    }\n",
              "\n",
              "    .colab-df-convert {\n",
              "      background-color: #E8F0FE;\n",
              "      border: none;\n",
              "      border-radius: 50%;\n",
              "      cursor: pointer;\n",
              "      display: none;\n",
              "      fill: #1967D2;\n",
              "      height: 32px;\n",
              "      padding: 0 0 0 0;\n",
              "      width: 32px;\n",
              "    }\n",
              "\n",
              "    .colab-df-convert:hover {\n",
              "      background-color: #E2EBFA;\n",
              "      box-shadow: 0px 1px 2px rgba(60, 64, 67, 0.3), 0px 1px 3px 1px rgba(60, 64, 67, 0.15);\n",
              "      fill: #174EA6;\n",
              "    }\n",
              "\n",
              "    .colab-df-buttons div {\n",
              "      margin-bottom: 4px;\n",
              "    }\n",
              "\n",
              "    [theme=dark] .colab-df-convert {\n",
              "      background-color: #3B4455;\n",
              "      fill: #D2E3FC;\n",
              "    }\n",
              "\n",
              "    [theme=dark] .colab-df-convert:hover {\n",
              "      background-color: #434B5C;\n",
              "      box-shadow: 0px 1px 3px 1px rgba(0, 0, 0, 0.15);\n",
              "      filter: drop-shadow(0px 1px 2px rgba(0, 0, 0, 0.3));\n",
              "      fill: #FFFFFF;\n",
              "    }\n",
              "  </style>\n",
              "\n",
              "    <script>\n",
              "      const buttonEl =\n",
              "        document.querySelector('#df-22051a90-83fc-47c6-988c-a84f5f724ce3 button.colab-df-convert');\n",
              "      buttonEl.style.display =\n",
              "        google.colab.kernel.accessAllowed ? 'block' : 'none';\n",
              "\n",
              "      async function convertToInteractive(key) {\n",
              "        const element = document.querySelector('#df-22051a90-83fc-47c6-988c-a84f5f724ce3');\n",
              "        const dataTable =\n",
              "          await google.colab.kernel.invokeFunction('convertToInteractive',\n",
              "                                                    [key], {});\n",
              "        if (!dataTable) return;\n",
              "\n",
              "        const docLinkHtml = 'Like what you see? Visit the ' +\n",
              "          '<a target=\"_blank\" href=https://colab.research.google.com/notebooks/data_table.ipynb>data table notebook</a>'\n",
              "          + ' to learn more about interactive tables.';\n",
              "        element.innerHTML = '';\n",
              "        dataTable['output_type'] = 'display_data';\n",
              "        await google.colab.output.renderOutput(dataTable, element);\n",
              "        const docLink = document.createElement('div');\n",
              "        docLink.innerHTML = docLinkHtml;\n",
              "        element.appendChild(docLink);\n",
              "      }\n",
              "    </script>\n",
              "  </div>\n",
              "\n",
              "\n",
              "<div id=\"df-6e48508c-9d8c-485a-9b5b-b84c0d9e048d\">\n",
              "  <button class=\"colab-df-quickchart\" onclick=\"quickchart('df-6e48508c-9d8c-485a-9b5b-b84c0d9e048d')\"\n",
              "            title=\"Suggest charts.\"\n",
              "            style=\"display:none;\">\n",
              "\n",
              "<svg xmlns=\"http://www.w3.org/2000/svg\" height=\"24px\"viewBox=\"0 0 24 24\"\n",
              "     width=\"24px\">\n",
              "    <g>\n",
              "        <path d=\"M19 3H5c-1.1 0-2 .9-2 2v14c0 1.1.9 2 2 2h14c1.1 0 2-.9 2-2V5c0-1.1-.9-2-2-2zM9 17H7v-7h2v7zm4 0h-2V7h2v10zm4 0h-2v-4h2v4z\"/>\n",
              "    </g>\n",
              "</svg>\n",
              "  </button>\n",
              "\n",
              "<style>\n",
              "  .colab-df-quickchart {\n",
              "      --bg-color: #E8F0FE;\n",
              "      --fill-color: #1967D2;\n",
              "      --hover-bg-color: #E2EBFA;\n",
              "      --hover-fill-color: #174EA6;\n",
              "      --disabled-fill-color: #AAA;\n",
              "      --disabled-bg-color: #DDD;\n",
              "  }\n",
              "\n",
              "  [theme=dark] .colab-df-quickchart {\n",
              "      --bg-color: #3B4455;\n",
              "      --fill-color: #D2E3FC;\n",
              "      --hover-bg-color: #434B5C;\n",
              "      --hover-fill-color: #FFFFFF;\n",
              "      --disabled-bg-color: #3B4455;\n",
              "      --disabled-fill-color: #666;\n",
              "  }\n",
              "\n",
              "  .colab-df-quickchart {\n",
              "    background-color: var(--bg-color);\n",
              "    border: none;\n",
              "    border-radius: 50%;\n",
              "    cursor: pointer;\n",
              "    display: none;\n",
              "    fill: var(--fill-color);\n",
              "    height: 32px;\n",
              "    padding: 0;\n",
              "    width: 32px;\n",
              "  }\n",
              "\n",
              "  .colab-df-quickchart:hover {\n",
              "    background-color: var(--hover-bg-color);\n",
              "    box-shadow: 0 1px 2px rgba(60, 64, 67, 0.3), 0 1px 3px 1px rgba(60, 64, 67, 0.15);\n",
              "    fill: var(--button-hover-fill-color);\n",
              "  }\n",
              "\n",
              "  .colab-df-quickchart-complete:disabled,\n",
              "  .colab-df-quickchart-complete:disabled:hover {\n",
              "    background-color: var(--disabled-bg-color);\n",
              "    fill: var(--disabled-fill-color);\n",
              "    box-shadow: none;\n",
              "  }\n",
              "\n",
              "  .colab-df-spinner {\n",
              "    border: 2px solid var(--fill-color);\n",
              "    border-color: transparent;\n",
              "    border-bottom-color: var(--fill-color);\n",
              "    animation:\n",
              "      spin 1s steps(1) infinite;\n",
              "  }\n",
              "\n",
              "  @keyframes spin {\n",
              "    0% {\n",
              "      border-color: transparent;\n",
              "      border-bottom-color: var(--fill-color);\n",
              "      border-left-color: var(--fill-color);\n",
              "    }\n",
              "    20% {\n",
              "      border-color: transparent;\n",
              "      border-left-color: var(--fill-color);\n",
              "      border-top-color: var(--fill-color);\n",
              "    }\n",
              "    30% {\n",
              "      border-color: transparent;\n",
              "      border-left-color: var(--fill-color);\n",
              "      border-top-color: var(--fill-color);\n",
              "      border-right-color: var(--fill-color);\n",
              "    }\n",
              "    40% {\n",
              "      border-color: transparent;\n",
              "      border-right-color: var(--fill-color);\n",
              "      border-top-color: var(--fill-color);\n",
              "    }\n",
              "    60% {\n",
              "      border-color: transparent;\n",
              "      border-right-color: var(--fill-color);\n",
              "    }\n",
              "    80% {\n",
              "      border-color: transparent;\n",
              "      border-right-color: var(--fill-color);\n",
              "      border-bottom-color: var(--fill-color);\n",
              "    }\n",
              "    90% {\n",
              "      border-color: transparent;\n",
              "      border-bottom-color: var(--fill-color);\n",
              "    }\n",
              "  }\n",
              "</style>\n",
              "\n",
              "  <script>\n",
              "    async function quickchart(key) {\n",
              "      const quickchartButtonEl =\n",
              "        document.querySelector('#' + key + ' button');\n",
              "      quickchartButtonEl.disabled = true;  // To prevent multiple clicks.\n",
              "      quickchartButtonEl.classList.add('colab-df-spinner');\n",
              "      try {\n",
              "        const charts = await google.colab.kernel.invokeFunction(\n",
              "            'suggestCharts', [key], {});\n",
              "      } catch (error) {\n",
              "        console.error('Error during call to suggestCharts:', error);\n",
              "      }\n",
              "      quickchartButtonEl.classList.remove('colab-df-spinner');\n",
              "      quickchartButtonEl.classList.add('colab-df-quickchart-complete');\n",
              "    }\n",
              "    (() => {\n",
              "      let quickchartButtonEl =\n",
              "        document.querySelector('#df-6e48508c-9d8c-485a-9b5b-b84c0d9e048d button');\n",
              "      quickchartButtonEl.style.display =\n",
              "        google.colab.kernel.accessAllowed ? 'block' : 'none';\n",
              "    })();\n",
              "  </script>\n",
              "</div>\n",
              "    </div>\n",
              "  </div>\n"
            ]
          },
          "metadata": {},
          "execution_count": 3
        }
      ]
    },
    {
      "cell_type": "markdown",
      "source": [
        "# Data cleaning\n",
        "\n"
      ],
      "metadata": {
        "id": "rpb17HBAhLmH"
      }
    },
    {
      "cell_type": "code",
      "source": [
        "df.isnull().sum()"
      ],
      "metadata": {
        "colab": {
          "base_uri": "https://localhost:8080/"
        },
        "id": "4306gjxQfFEJ",
        "outputId": "7df6a6e4-476b-4346-9866-7266ba8448eb"
      },
      "execution_count": null,
      "outputs": [
        {
          "output_type": "execute_result",
          "data": {
            "text/plain": [
              "PassengerId      0\n",
              "Survived         0\n",
              "Pclass           0\n",
              "Name             0\n",
              "Sex              0\n",
              "Age            177\n",
              "SibSp            0\n",
              "Parch            0\n",
              "Ticket           0\n",
              "Fare             0\n",
              "Cabin          687\n",
              "Embarked         2\n",
              "dtype: int64"
            ]
          },
          "metadata": {},
          "execution_count": 4
        }
      ]
    },
    {
      "cell_type": "code",
      "source": [
        "# Filling missing values in 'Embarked' column with the mode\n",
        "df['Embarked'].fillna(df['Embarked'].mode()[0], inplace=True)"
      ],
      "metadata": {
        "id": "t4jri7Qeg26L"
      },
      "execution_count": null,
      "outputs": []
    },
    {
      "cell_type": "code",
      "source": [
        "# The 'Cabin' column is dropped from the DataFrame because it contains a large number of missing values\n",
        "df = df.drop(\"Cabin\", axis=1)"
      ],
      "metadata": {
        "id": "ziWrzhG1gjSA"
      },
      "execution_count": null,
      "outputs": []
    },
    {
      "cell_type": "code",
      "source": [
        "# Filling missing values in 'Age' column with the mode\n",
        "df['Age'].fillna(df['Age'].mode()[0], inplace=True)"
      ],
      "metadata": {
        "id": "Y6FJjdg8hAEH"
      },
      "execution_count": null,
      "outputs": []
    },
    {
      "cell_type": "code",
      "source": [
        "df.info()"
      ],
      "metadata": {
        "colab": {
          "base_uri": "https://localhost:8080/"
        },
        "id": "e1_5fiKwc8b_",
        "outputId": "6202b308-6cd0-4481-fd3e-fa3136045f7d"
      },
      "execution_count": null,
      "outputs": [
        {
          "output_type": "stream",
          "name": "stdout",
          "text": [
            "<class 'pandas.core.frame.DataFrame'>\n",
            "RangeIndex: 891 entries, 0 to 890\n",
            "Data columns (total 11 columns):\n",
            " #   Column       Non-Null Count  Dtype  \n",
            "---  ------       --------------  -----  \n",
            " 0   PassengerId  891 non-null    int64  \n",
            " 1   Survived     891 non-null    object \n",
            " 2   Pclass       891 non-null    int64  \n",
            " 3   Name         891 non-null    object \n",
            " 4   Sex          891 non-null    object \n",
            " 5   Age          891 non-null    float64\n",
            " 6   SibSp        891 non-null    int64  \n",
            " 7   Parch        891 non-null    int64  \n",
            " 8   Ticket       891 non-null    object \n",
            " 9   Fare         891 non-null    float64\n",
            " 10  Embarked     891 non-null    object \n",
            "dtypes: float64(2), int64(4), object(5)\n",
            "memory usage: 76.7+ KB\n"
          ]
        }
      ]
    },
    {
      "cell_type": "code",
      "source": [
        "from sklearn.preprocessing import LabelEncoder\n",
        "\n",
        "#Encoding columns using LabelEncoder\n",
        "label_encoder = LabelEncoder()\n",
        "df[\"Survived\"] = label_encoder.fit_transform(df[\"Survived\"])\n",
        "df[\"Sex\"] = label_encoder.fit_transform(df[\"Sex\"])\n",
        "df[\"Embarked\"] = label_encoder.fit_transform(df[\"Embarked\"])\n",
        "df[\"Ticket\"] = label_encoder.fit_transform(df[\"Ticket\"])"
      ],
      "metadata": {
        "id": "oEqXc6wOd6HP"
      },
      "execution_count": null,
      "outputs": []
    },
    {
      "cell_type": "code",
      "source": [
        "#drop useless\n",
        "df = df.drop(\"Name\", axis=1)\n",
        "df = df.drop(\"PassengerId\", axis=1)\n"
      ],
      "metadata": {
        "id": "HOzVTI0O9EBx"
      },
      "execution_count": null,
      "outputs": []
    },
    {
      "cell_type": "code",
      "source": [
        "df.info()"
      ],
      "metadata": {
        "colab": {
          "base_uri": "https://localhost:8080/"
        },
        "id": "AH_Nx95o9sdK",
        "outputId": "f9ea675c-cac4-4392-cfea-37560756a256"
      },
      "execution_count": null,
      "outputs": [
        {
          "output_type": "stream",
          "name": "stdout",
          "text": [
            "<class 'pandas.core.frame.DataFrame'>\n",
            "RangeIndex: 891 entries, 0 to 890\n",
            "Data columns (total 9 columns):\n",
            " #   Column    Non-Null Count  Dtype  \n",
            "---  ------    --------------  -----  \n",
            " 0   Survived  891 non-null    int64  \n",
            " 1   Pclass    891 non-null    int64  \n",
            " 2   Sex       891 non-null    int64  \n",
            " 3   Age       891 non-null    float64\n",
            " 4   SibSp     891 non-null    int64  \n",
            " 5   Parch     891 non-null    int64  \n",
            " 6   Ticket    891 non-null    int64  \n",
            " 7   Fare      891 non-null    float64\n",
            " 8   Embarked  891 non-null    int64  \n",
            "dtypes: float64(2), int64(7)\n",
            "memory usage: 62.8 KB\n"
          ]
        }
      ]
    },
    {
      "cell_type": "code",
      "source": [
        "df.corrwith(df[\"Survived\"])"
      ],
      "metadata": {
        "colab": {
          "base_uri": "https://localhost:8080/"
        },
        "id": "Cfotmrhsh2jx",
        "outputId": "4f473285-90b1-41bb-bc92-8bbe36eb6cdd"
      },
      "execution_count": null,
      "outputs": [
        {
          "output_type": "execute_result",
          "data": {
            "text/plain": [
              "Survived    1.000000\n",
              "Pclass     -0.338481\n",
              "Sex        -0.543351\n",
              "Age        -0.052872\n",
              "SibSp      -0.035322\n",
              "Parch       0.081629\n",
              "Ticket     -0.164549\n",
              "Fare        0.257307\n",
              "Embarked   -0.167675\n",
              "dtype: float64"
            ]
          },
          "metadata": {},
          "execution_count": 12
        }
      ]
    },
    {
      "cell_type": "markdown",
      "source": [
        "# Data Visualization"
      ],
      "metadata": {
        "id": "0U5rJBw44TFe"
      }
    },
    {
      "cell_type": "code",
      "source": [
        "import seaborn as sns\n",
        "# Age Distribution by Survival\n",
        "plt.figure(figsize=(10, 6))\n",
        "sns.histplot(data=df, x='Age', hue='Survived', multiple='stack', bins=20)\n",
        "plt.title(\"Age Distribution by Survival\")\n",
        "plt.xlabel(\"Age\")\n",
        "plt.ylabel(\"Count\")\n",
        "plt.legend(title=\"Survived\")\n",
        "plt.show()"
      ],
      "metadata": {
        "colab": {
          "base_uri": "https://localhost:8080/",
          "height": 581
        },
        "id": "oco18ttX7PNA",
        "outputId": "e8cb54c6-6361-414c-9354-b7a8490ed6eb"
      },
      "execution_count": null,
      "outputs": [
        {
          "output_type": "stream",
          "name": "stderr",
          "text": [
            "WARNING:matplotlib.legend:No artists with labels found to put in legend.  Note that artists whose label start with an underscore are ignored when legend() is called with no argument.\n"
          ]
        },
        {
          "output_type": "display_data",
          "data": {
            "text/plain": [
              "<Figure size 1000x600 with 1 Axes>"
            ],
            "image/png": "[encoded data removed]"
          },
          "metadata": {}
        }
      ]
    },
    {
      "cell_type": "markdown",
      "source": [
        "*------This histogram shows that most of the passengers are between 18 to 40 years old and the majority of the dead was in their early 20s.*"
      ],
      "metadata": {
        "id": "G6Ivmt0_zw7B"
      }
    },
    {
      "cell_type": "code",
      "source": [
        "#Passenger Class vs. Survival\n",
        "class_survival =df.groupby('Pclass')['Survived'].mean()\n",
        "sns.barplot(x=class_survival.index, y=class_survival.values)\n",
        "plt.title(\"Passenger Class vs. Survival\")\n",
        "plt.xlabel(\"Passenger Class\")\n",
        "plt.ylabel(\"Survival Rate\")\n",
        "plt.show()"
      ],
      "metadata": {
        "colab": {
          "base_uri": "https://localhost:8080/",
          "height": 472
        },
        "id": "_1IIs9JF8Jk4",
        "outputId": "fa6a9369-d8e6-4eaf-b97e-8e402813d8f6"
      },
      "execution_count": null,
      "outputs": [
        {
          "output_type": "display_data",
          "data": {
            "text/plain": [
              "<Figure size 640x480 with 1 Axes>"
            ],
            "image/png": "[encoded data removed]"
          },
          "metadata": {}
        }
      ]
    },
    {
      "cell_type": "markdown",
      "source": [
        "*-------According to this bar chart first class passengers had the highest rate of survival with 60%. while both second and third class had a survival rate below the half *"
      ],
      "metadata": {
        "id": "lcximaVD0l6Y"
      }
    },
    {
      "cell_type": "code",
      "source": [
        "# Survival Distribution by Gender\n",
        "colors = ['#ADD8E6', '#FFC0CB']\n",
        "gender_survival = df.groupby('Sex')['Survived'].value_counts().unstack()\n",
        "gender_survival.plot.pie(subplots=True, autopct='%1.1f%%', startangle=90, labels=['Female', 'Male'], colors=colors)\n",
        "plt.title(\"Survival Distribution by Gender\")\n",
        "plt.axis('equal')\n",
        "plt.show()\n"
      ],
      "metadata": {
        "colab": {
          "base_uri": "https://localhost:8080/",
          "height": 428
        },
        "id": "svKB3bt08ZyI",
        "outputId": "26f45fba-72be-4eed-c0ac-69bc2ec29b71"
      },
      "execution_count": null,
      "outputs": [
        {
          "output_type": "display_data",
          "data": {
            "text/plain": [
              "<Figure size 640x480 with 2 Axes>"
            ],
            "image/png": "[encoded data removed]"
          },
          "metadata": {}
        }
      ]
    },
    {
      "cell_type": "markdown",
      "source": [
        "-------This pie chart shows that the majority of the dead were Male"
      ],
      "metadata": {
        "id": "sYt6XMFq1XJJ"
      }
    },
    {
      "cell_type": "markdown",
      "source": [
        "# Machine Learning"
      ],
      "metadata": {
        "id": "6BLpEdw9y3G1"
      }
    },
    {
      "cell_type": "code",
      "source": [
        "#import relevant libraries\n",
        "from sklearn.model_selection import train_test_split\n",
        "#features extraction\n",
        "x= df[[\"Pclass\",\"Sex\",\"Embarked\", \"Fare\", \"Ticket\",\"Parch\"]]\n",
        "y= df[\"Survived\"]\n",
        "#splitting data with test size of 25%\n",
        "x_train,x_test,y_train,y_test = train_test_split(x,y,test_size=0.25,random_state=0)\n"
      ],
      "metadata": {
        "id": "IhVwFMGP-Q1n"
      },
      "execution_count": null,
      "outputs": []
    },
    {
      "cell_type": "markdown",
      "source": [
        "# Part 1 Logistic Regression"
      ],
      "metadata": {
        "id": "gU3MYrKpAKo-"
      }
    },
    {
      "cell_type": "code",
      "source": [
        "from sklearn.linear_model import LogisticRegression\n",
        "from sklearn import metrics\n",
        "from sklearn.metrics import accuracy_score\n",
        "#build our logistic model\n",
        "logreg = LogisticRegression()\n",
        "#fitting training data\n",
        "logreg.fit(x_train, y_train)\n",
        "#testing model’s performance\n",
        "y_pred  = logreg.predict(x_test)\n",
        "LR_score= accuracy_score(y_pred, y_test)\n",
        "LR_score"
      ],
      "metadata": {
        "colab": {
          "base_uri": "https://localhost:8080/"
        },
        "id": "k-Tr4UEryWkk",
        "outputId": "85a83b39-1916-444a-eb8f-e66dd60e59eb"
      },
      "execution_count": null,
      "outputs": [
        {
          "output_type": "stream",
          "name": "stderr",
          "text": [
            "/usr/local/lib/python3.10/dist-packages/sklearn/linear_model/_logistic.py:458: ConvergenceWarning: lbfgs failed to converge (status=1):\n",
            "STOP: TOTAL NO. of ITERATIONS REACHED LIMIT.\n",
            "\n",
            "Increase the number of iterations (max_iter) or scale the data as shown in:\n",
            "    https://scikit-learn.org/stable/modules/preprocessing.html\n",
            "Please also refer to the documentation for alternative solver options:\n",
            "    https://scikit-learn.org/stable/modules/linear_model.html#logistic-regression\n",
            "  n_iter_i = _check_optimize_result(\n"
          ]
        },
        {
          "output_type": "execute_result",
          "data": {
            "text/plain": [
              "0.8251121076233184"
            ]
          },
          "metadata": {},
          "execution_count": 17
        }
      ]
    },
    {
      "cell_type": "markdown",
      "source": [
        "# confusion matrix"
      ],
      "metadata": {
        "id": "pPGSfBpk_htu"
      }
    },
    {
      "cell_type": "code",
      "source": [
        "import seaborn as sns\n",
        "#Use confusion matrix to validate the model\n",
        "confusion_matrix = pd.crosstab(y_test, y_pred, rownames=['Actual'], colnames=['Predicted'])\n",
        "sns.heatmap(confusion_matrix, annot=True,fmt='d');"
      ],
      "metadata": {
        "colab": {
          "base_uri": "https://localhost:8080/",
          "height": 449
        },
        "id": "e_OHQifSCNuq",
        "outputId": "4f4f492c-8d70-42c9-8c87-857b6b371a2e"
      },
      "execution_count": null,
      "outputs": [
        {
          "output_type": "display_data",
          "data": {
            "text/plain": [
              "<Figure size 640x480 with 2 Axes>"
            ],
            "image/png": "[encoded data removed]"
          },
          "metadata": {}
        }
      ]
    },
    {
      "cell_type": "markdown",
      "source": [
        "54 correctly classified as going to survive\n",
        "\n",
        "130 are correctly classified as going to be dead\n",
        "\n",
        "14 false positives\n",
        "\n",
        "25 false negatives"
      ],
      "metadata": {
        "id": "JhVMF8OJr0e3"
      }
    },
    {
      "cell_type": "markdown",
      "source": [
        "# ROC/AUC"
      ],
      "metadata": {
        "id": "D0Hp9SR2_P7l"
      }
    },
    {
      "cell_type": "markdown",
      "source": [
        "ROC (Receiver Operating Characteristics) curves make it easy to identify the best threshhold for making a decision\n",
        "\n",
        "AUC ( Area under curve) can help you decide which categorization method is better\n",
        "\n",
        "* ROC is a probability curve and AUC represents the degree or measure of separability. It tells how much the model is capable of distinguishing between classes. Higher the AUC, the better the model is at predicting 0 classes as 0 and 1 classes as 1*"
      ],
      "metadata": {
        "id": "LOEa7Hm1tE_7"
      }
    },
    {
      "cell_type": "code",
      "source": [
        "#Plotting the ROC Curve\n",
        "RocCurveDisplay.from_estimator(logreg, x_test, y_test)\n",
        "plt.show()"
      ],
      "metadata": {
        "colab": {
          "base_uri": "https://localhost:8080/",
          "height": 449
        },
        "id": "RArbDO6Hx_jY",
        "outputId": "eebd2957-9311-4fd2-a6e3-225c16d0b99e"
      },
      "execution_count": null,
      "outputs": [
        {
          "output_type": "display_data",
          "data": {
            "text/plain": [
              "<Figure size 640x480 with 1 Axes>"
            ],
            "image/png": "[encoded data removed]"
          },
          "metadata": {}
        }
      ]
    },
    {
      "cell_type": "markdown",
      "source": [
        "# Part 2 KNN\n",
        "\n",
        "K-Nearest-Neighbor algorithm"
      ],
      "metadata": {
        "id": "CkvpTtdyzvVF"
      }
    },
    {
      "cell_type": "code",
      "source": [
        "#import KNeighborsClassifier\n",
        "from sklearn.neighbors import KNeighborsClassifier\n",
        "\n",
        "#Setup arrays to store training and test accuracies\n",
        "neighbors = np.arange(1,9)\n",
        "train_accuracy =np.empty(len(neighbors))\n",
        "test_accuracy = np.empty(len(neighbors))\n",
        "\n",
        "for i,k in enumerate(neighbors):\n",
        "    #Setup a knn classifier with k neighbors\n",
        "    knn = KNeighborsClassifier(n_neighbors=k)\n",
        "\n",
        "    #Fit the model\n",
        "    knn.fit(x_train, y_train)\n",
        "  # Make predictions\n",
        "y_pred = knn.predict(x_test)\n",
        "KNN_score = accuracy_score(y_pred, y_test)\n",
        "KNN_score"
      ],
      "metadata": {
        "colab": {
          "base_uri": "https://localhost:8080/"
        },
        "id": "z2xNHg_1z1Vm",
        "outputId": "ac1b7df5-ab90-4727-d8f4-e4aae66b12d4"
      },
      "execution_count": null,
      "outputs": [
        {
          "output_type": "execute_result",
          "data": {
            "text/plain": [
              "0.6412556053811659"
            ]
          },
          "metadata": {},
          "execution_count": 20
        }
      ]
    },
    {
      "cell_type": "code",
      "source": [
        "n_neighbors=30\n",
        "scores=[]\n",
        "for k in range(1,30):\n",
        "    knn=KNeighborsClassifier(n_neighbors-k)\n",
        "    knn.fit(x_train,y_train)\n",
        "    y_pred=knn.predict(x_test)\n",
        "    print('Accuracy for k=',k,'is:',round(accuracy_score(y_pred,y_test),2))\n",
        "    scores.append(round(accuracy_score(y_pred,y_test),2))"
      ],
      "metadata": {
        "colab": {
          "base_uri": "https://localhost:8080/"
        },
        "id": "4jyXbsrD5MD_",
        "outputId": "16f08a2f-f2ad-46fa-856f-52408f7a63ec"
      },
      "execution_count": null,
      "outputs": [
        {
          "output_type": "stream",
          "name": "stdout",
          "text": [
            "Accuracy for k= 1 is: 0.61\n",
            "Accuracy for k= 2 is: 0.62\n",
            "Accuracy for k= 3 is: 0.62\n",
            "Accuracy for k= 4 is: 0.63\n",
            "Accuracy for k= 5 is: 0.62\n",
            "Accuracy for k= 6 is: 0.63\n",
            "Accuracy for k= 7 is: 0.61\n",
            "Accuracy for k= 8 is: 0.65\n",
            "Accuracy for k= 9 is: 0.63\n",
            "Accuracy for k= 10 is: 0.65\n",
            "Accuracy for k= 11 is: 0.65\n",
            "Accuracy for k= 12 is: 0.65\n",
            "Accuracy for k= 13 is: 0.64\n",
            "Accuracy for k= 14 is: 0.65\n",
            "Accuracy for k= 15 is: 0.63\n",
            "Accuracy for k= 16 is: 0.66\n",
            "Accuracy for k= 17 is: 0.64\n",
            "Accuracy for k= 18 is: 0.66\n",
            "Accuracy for k= 19 is: 0.63\n",
            "Accuracy for k= 20 is: 0.67\n",
            "Accuracy for k= 21 is: 0.65\n",
            "Accuracy for k= 22 is: 0.64\n",
            "Accuracy for k= 23 is: 0.65\n",
            "Accuracy for k= 24 is: 0.66\n",
            "Accuracy for k= 25 is: 0.64\n",
            "Accuracy for k= 26 is: 0.67\n",
            "Accuracy for k= 27 is: 0.62\n",
            "Accuracy for k= 28 is: 0.65\n",
            "Accuracy for k= 29 is: 0.61\n"
          ]
        }
      ]
    },
    {
      "cell_type": "code",
      "source": [
        "# Optimal K Value Plot\n",
        "plt.plot(range(1,30),scores)\n",
        "plt.xlabel('Value K for KNN')\n",
        "plt.ylabel('Testing Accuracy');"
      ],
      "metadata": {
        "colab": {
          "base_uri": "https://localhost:8080/",
          "height": 449
        },
        "id": "YBID3tUp5tAV",
        "outputId": "4fb36127-0bfe-4d1e-84a4-9b36232ebb99"
      },
      "execution_count": null,
      "outputs": [
        {
          "output_type": "display_data",
          "data": {
            "text/plain": [
              "<Figure size 640x480 with 1 Axes>"
            ],
            "image/png": "[encoded data removed]"
          },
          "metadata": {}
        }
      ]
    },
    {
      "cell_type": "markdown",
      "source": [
        "** ==> Our k-Nearest Neighbors (k-NN) model, using an optimal\n",
        "k value of 20, achieves an accuracy of 0.67. While demonstrating potential, further investigation is needed to improve accuracy for robust predictions.**"
      ],
      "metadata": {
        "id": "XGHmJy-T6Owz"
      }
    },
    {
      "cell_type": "markdown",
      "source": [
        "# Part 3:  Decision tree and random forest"
      ],
      "metadata": {
        "id": "9bvdOhjN7Gik"
      }
    },
    {
      "cell_type": "markdown",
      "source": [
        "**--------Decision tree--------**"
      ],
      "metadata": {
        "id": "FD7DvDF8ootd"
      }
    },
    {
      "cell_type": "code",
      "source": [
        "#Preprocessing our data\n",
        "def preprocess_data(new_data):\n",
        "    new_data['Age'].fillna(new_data['Age'].mean(),inplace=True)\n",
        "    new_data.replace({'Sex':{'male': 1,'female':0}},inplace=True)\n",
        "    new_data.replace({'Survived':{'Yes': 1,'No':0}},inplace=True)\n",
        "    return new_data\n",
        "data=preprocess_data(df)"
      ],
      "metadata": {
        "id": "BU0Bl1AZ7K8P"
      },
      "execution_count": null,
      "outputs": []
    },
    {
      "cell_type": "code",
      "source": [
        "#applying tree algorithm\n",
        "from sklearn import tree\n",
        "from sklearn.tree import DecisionTreeClassifier\n",
        "treed = tree.DecisionTreeClassifier()\n",
        "#fitting our model\n",
        "treed.fit(x_train, y_train)   #fitting our model\n",
        "y_pred=treed.predict(x_test)   # evaluating our model\n",
        "DT_accuracy = accuracy_score(y_test, y_pred)\n",
        "DT_accuracy"
      ],
      "metadata": {
        "colab": {
          "base_uri": "https://localhost:8080/"
        },
        "id": "SgcBCai1FFjs",
        "outputId": "22af01a8-cf67-4854-a6f2-d5bc26a6c3a2"
      },
      "execution_count": null,
      "outputs": [
        {
          "output_type": "execute_result",
          "data": {
            "text/plain": [
              "0.7668161434977578"
            ]
          },
          "metadata": {},
          "execution_count": 24
        }
      ]
    },
    {
      "cell_type": "code",
      "source": [
        "!pip install graphviz"
      ],
      "metadata": {
        "colab": {
          "base_uri": "https://localhost:8080/"
        },
        "id": "8LtYllYyIuj4",
        "outputId": "13f0977a-59bd-43b2-d230-ed0b522159d5"
      },
      "execution_count": null,
      "outputs": [
        {
          "output_type": "stream",
          "name": "stdout",
          "text": [
            "Requirement already satisfied: graphviz in /usr/local/lib/python3.10/dist-packages (0.20.1)\n"
          ]
        }
      ]
    },
    {
      "cell_type": "code",
      "source": [
        "from sklearn.tree import export_graphviz\n",
        "import graphviz\n",
        "# DOT data\n",
        "dot_data =tree.export_graphviz(treed, max_depth=3,out_file=None)\n",
        "\n",
        "# Draw graph\n",
        "graph = graphviz.Source(dot_data)\n",
        "graph"
      ],
      "metadata": {
        "colab": {
          "base_uri": "https://localhost:8080/",
          "height": 635
        },
        "id": "jiHVl_-LFy5i",
        "outputId": "39425f06-4f7c-4956-babe-6fbcb1077774"
      },
      "execution_count": null,
      "outputs": [
        {
          "output_type": "execute_result",
          "data": {
            "image/svg+xml": "<?xml version=\"1.0\" encoding=\"UTF-8\" standalone=\"no\"?>\n<!DOCTYPE svg PUBLIC \"-//W3C//DTD SVG 1.1//EN\"\n \"http://www.w3.org/Graphics/SVG/1.1/DTD/svg11.dtd\">\n<!-- Generated by graphviz version 2.43.0 (0)\n -->\n<!-- Title: Tree Pages: 1 -->\n<svg width=\"1084pt\" height=\"460pt\"\n viewBox=\"0.00 0.00 1084.00 460.00\" xmlns=\"http://www.w3.org/2000/svg\" xmlns:xlink=\"http://www.w3.org/1999/xlink\">\n<g id=\"graph0\" class=\"graph\" transform=\"scale(1 1) rotate(0) translate(4 456)\">\n<title>Tree</title>\n<polygon fill=\"white\" stroke=\"transparent\" points=\"-4,4 -4,-456 1080,-456 1080,4 -4,4\"/>\n<!-- 0 -->\n<g id=\"node1\" class=\"node\">\n<title>0</title>\n<polygon fill=\"none\" stroke=\"black\" points=\"589.5,-452 464.5,-452 464.5,-384 589.5,-384 589.5,-452\"/>\n<text text-anchor=\"middle\" x=\"527\" y=\"-436.8\" font-family=\"Helvetica,sans-Serif\" font-size=\"14.00\">x[1] &lt;= 0.5</text>\n<text text-anchor=\"middle\" x=\"527\" y=\"-421.8\" font-family=\"Helvetica,sans-Serif\" font-size=\"14.00\">gini = 0.477</text>\n<text text-anchor=\"middle\" x=\"527\" y=\"-406.8\" font-family=\"Helvetica,sans-Serif\" font-size=\"14.00\">samples = 668</text>\n<text text-anchor=\"middle\" x=\"527\" y=\"-391.8\" font-family=\"Helvetica,sans-Serif\" font-size=\"14.00\">value = [405, 263]</text>\n</g>\n<!-- 1 -->\n<g id=\"node2\" class=\"node\">\n<title>1</title>\n<polygon fill=\"none\" stroke=\"black\" points=\"463.5,-348 346.5,-348 346.5,-280 463.5,-280 463.5,-348\"/>\n<text text-anchor=\"middle\" x=\"405\" y=\"-332.8\" font-family=\"Helvetica,sans-Serif\" font-size=\"14.00\">x[0] &lt;= 2.5</text>\n<text text-anchor=\"middle\" x=\"405\" y=\"-317.8\" font-family=\"Helvetica,sans-Serif\" font-size=\"14.00\">gini = 0.395</text>\n<text text-anchor=\"middle\" x=\"405\" y=\"-302.8\" font-family=\"Helvetica,sans-Serif\" font-size=\"14.00\">samples = 244</text>\n<text text-anchor=\"middle\" x=\"405\" y=\"-287.8\" font-family=\"Helvetica,sans-Serif\" font-size=\"14.00\">value = [66, 178]</text>\n</g>\n<!-- 0&#45;&gt;1 -->\n<g id=\"edge1\" class=\"edge\">\n<title>0&#45;&gt;1</title>\n<path fill=\"none\" stroke=\"black\" d=\"M487.39,-383.88C476.31,-374.62 464.15,-364.45 452.66,-354.85\"/>\n<polygon fill=\"black\" stroke=\"black\" points=\"454.75,-352.03 444.83,-348.3 450.26,-357.4 454.75,-352.03\"/>\n<text text-anchor=\"middle\" x=\"447.05\" y=\"-369.5\" font-family=\"Helvetica,sans-Serif\" font-size=\"14.00\">True</text>\n</g>\n<!-- 100 -->\n<g id=\"node17\" class=\"node\">\n<title>100</title>\n<polygon fill=\"none\" stroke=\"black\" points=\"715.5,-348 598.5,-348 598.5,-280 715.5,-280 715.5,-348\"/>\n<text text-anchor=\"middle\" x=\"657\" y=\"-332.8\" font-family=\"Helvetica,sans-Serif\" font-size=\"14.00\">x[4] &lt;= 116.0</text>\n<text text-anchor=\"middle\" x=\"657\" y=\"-317.8\" font-family=\"Helvetica,sans-Serif\" font-size=\"14.00\">gini = 0.321</text>\n<text text-anchor=\"middle\" x=\"657\" y=\"-302.8\" font-family=\"Helvetica,sans-Serif\" font-size=\"14.00\">samples = 424</text>\n<text text-anchor=\"middle\" x=\"657\" y=\"-287.8\" font-family=\"Helvetica,sans-Serif\" font-size=\"14.00\">value = [339, 85]</text>\n</g>\n<!-- 0&#45;&gt;100 -->\n<g id=\"edge16\" class=\"edge\">\n<title>0&#45;&gt;100</title>\n<path fill=\"none\" stroke=\"black\" d=\"M569.21,-383.88C581.13,-374.53 594.22,-364.26 606.57,-354.57\"/>\n<polygon fill=\"black\" stroke=\"black\" points=\"608.85,-357.23 614.56,-348.3 604.53,-351.72 608.85,-357.23\"/>\n<text text-anchor=\"middle\" x=\"611.56\" y=\"-369.42\" font-family=\"Helvetica,sans-Serif\" font-size=\"14.00\">False</text>\n</g>\n<!-- 2 -->\n<g id=\"node3\" class=\"node\">\n<title>2</title>\n<polygon fill=\"none\" stroke=\"black\" points=\"277,-244 167,-244 167,-176 277,-176 277,-244\"/>\n<text text-anchor=\"middle\" x=\"222\" y=\"-228.8\" font-family=\"Helvetica,sans-Serif\" font-size=\"14.00\">x[3] &lt;= 26.125</text>\n<text text-anchor=\"middle\" x=\"222\" y=\"-213.8\" font-family=\"Helvetica,sans-Serif\" font-size=\"14.00\">gini = 0.113</text>\n<text text-anchor=\"middle\" x=\"222\" y=\"-198.8\" font-family=\"Helvetica,sans-Serif\" font-size=\"14.00\">samples = 133</text>\n<text text-anchor=\"middle\" x=\"222\" y=\"-183.8\" font-family=\"Helvetica,sans-Serif\" font-size=\"14.00\">value = [8, 125]</text>\n</g>\n<!-- 1&#45;&gt;2 -->\n<g id=\"edge2\" class=\"edge\">\n<title>1&#45;&gt;2</title>\n<path fill=\"none\" stroke=\"black\" d=\"M346.34,-280.31C327.12,-269.59 305.67,-257.64 286.07,-246.71\"/>\n<polygon fill=\"black\" stroke=\"black\" points=\"287.65,-243.59 277.21,-241.78 284.25,-249.7 287.65,-243.59\"/>\n</g>\n<!-- 29 -->\n<g id=\"node10\" class=\"node\">\n<title>29</title>\n<polygon fill=\"none\" stroke=\"black\" points=\"460,-244 350,-244 350,-176 460,-176 460,-244\"/>\n<text text-anchor=\"middle\" x=\"405\" y=\"-228.8\" font-family=\"Helvetica,sans-Serif\" font-size=\"14.00\">x[3] &lt;= 24.808</text>\n<text text-anchor=\"middle\" x=\"405\" y=\"-213.8\" font-family=\"Helvetica,sans-Serif\" font-size=\"14.00\">gini = 0.499</text>\n<text text-anchor=\"middle\" x=\"405\" y=\"-198.8\" font-family=\"Helvetica,sans-Serif\" font-size=\"14.00\">samples = 111</text>\n<text text-anchor=\"middle\" x=\"405\" y=\"-183.8\" font-family=\"Helvetica,sans-Serif\" font-size=\"14.00\">value = [58, 53]</text>\n</g>\n<!-- 1&#45;&gt;29 -->\n<g id=\"edge9\" class=\"edge\">\n<title>1&#45;&gt;29</title>\n<path fill=\"none\" stroke=\"black\" d=\"M405,-279.88C405,-271.78 405,-262.98 405,-254.47\"/>\n<polygon fill=\"black\" stroke=\"black\" points=\"408.5,-254.3 405,-244.3 401.5,-254.3 408.5,-254.3\"/>\n</g>\n<!-- 3 -->\n<g id=\"node4\" class=\"node\">\n<title>3</title>\n<polygon fill=\"none\" stroke=\"black\" points=\"148,-140 46,-140 46,-72 148,-72 148,-140\"/>\n<text text-anchor=\"middle\" x=\"97\" y=\"-124.8\" font-family=\"Helvetica,sans-Serif\" font-size=\"14.00\">x[4] &lt;= 70.0</text>\n<text text-anchor=\"middle\" x=\"97\" y=\"-109.8\" font-family=\"Helvetica,sans-Serif\" font-size=\"14.00\">gini = 0.227</text>\n<text text-anchor=\"middle\" x=\"97\" y=\"-94.8\" font-family=\"Helvetica,sans-Serif\" font-size=\"14.00\">samples = 46</text>\n<text text-anchor=\"middle\" x=\"97\" y=\"-79.8\" font-family=\"Helvetica,sans-Serif\" font-size=\"14.00\">value = [6, 40]</text>\n</g>\n<!-- 2&#45;&gt;3 -->\n<g id=\"edge3\" class=\"edge\">\n<title>2&#45;&gt;3</title>\n<path fill=\"none\" stroke=\"black\" d=\"M181.42,-175.88C170.06,-166.62 157.61,-156.45 145.83,-146.85\"/>\n<polygon fill=\"black\" stroke=\"black\" points=\"147.77,-143.91 137.81,-140.3 143.34,-149.33 147.77,-143.91\"/>\n</g>\n<!-- 24 -->\n<g id=\"node7\" class=\"node\">\n<title>24</title>\n<polygon fill=\"none\" stroke=\"black\" points=\"277.5,-140 166.5,-140 166.5,-72 277.5,-72 277.5,-140\"/>\n<text text-anchor=\"middle\" x=\"222\" y=\"-124.8\" font-family=\"Helvetica,sans-Serif\" font-size=\"14.00\">x[3] &lt;= 149.035</text>\n<text text-anchor=\"middle\" x=\"222\" y=\"-109.8\" font-family=\"Helvetica,sans-Serif\" font-size=\"14.00\">gini = 0.045</text>\n<text text-anchor=\"middle\" x=\"222\" y=\"-94.8\" font-family=\"Helvetica,sans-Serif\" font-size=\"14.00\">samples = 87</text>\n<text text-anchor=\"middle\" x=\"222\" y=\"-79.8\" font-family=\"Helvetica,sans-Serif\" font-size=\"14.00\">value = [2, 85]</text>\n</g>\n<!-- 2&#45;&gt;24 -->\n<g id=\"edge6\" class=\"edge\">\n<title>2&#45;&gt;24</title>\n<path fill=\"none\" stroke=\"black\" d=\"M222,-175.88C222,-167.78 222,-158.98 222,-150.47\"/>\n<polygon fill=\"black\" stroke=\"black\" points=\"225.5,-150.3 222,-140.3 218.5,-150.3 225.5,-150.3\"/>\n</g>\n<!-- 4 -->\n<g id=\"node5\" class=\"node\">\n<title>4</title>\n<polygon fill=\"none\" stroke=\"black\" points=\"54,-36 0,-36 0,0 54,0 54,-36\"/>\n<text text-anchor=\"middle\" x=\"27\" y=\"-14.3\" font-family=\"Helvetica,sans-Serif\" font-size=\"14.00\">(...)</text>\n</g>\n<!-- 3&#45;&gt;4 -->\n<g id=\"edge4\" class=\"edge\">\n<title>3&#45;&gt;4</title>\n<path fill=\"none\" stroke=\"black\" d=\"M70.14,-72C62.66,-62.81 54.65,-52.97 47.59,-44.3\"/>\n<polygon fill=\"black\" stroke=\"black\" points=\"50.19,-41.95 41.17,-36.4 44.76,-46.37 50.19,-41.95\"/>\n</g>\n<!-- 5 -->\n<g id=\"node6\" class=\"node\">\n<title>5</title>\n<polygon fill=\"none\" stroke=\"black\" points=\"126,-36 72,-36 72,0 126,0 126,-36\"/>\n<text text-anchor=\"middle\" x=\"99\" y=\"-14.3\" font-family=\"Helvetica,sans-Serif\" font-size=\"14.00\">(...)</text>\n</g>\n<!-- 3&#45;&gt;5 -->\n<g id=\"edge5\" class=\"edge\">\n<title>3&#45;&gt;5</title>\n<path fill=\"none\" stroke=\"black\" d=\"M97.77,-72C97.96,-63.56 98.17,-54.59 98.36,-46.47\"/>\n<polygon fill=\"black\" stroke=\"black\" points=\"101.86,-46.48 98.6,-36.4 94.86,-46.32 101.86,-46.48\"/>\n</g>\n<!-- 25 -->\n<g id=\"node8\" class=\"node\">\n<title>25</title>\n<polygon fill=\"none\" stroke=\"black\" points=\"207,-36 153,-36 153,0 207,0 207,-36\"/>\n<text text-anchor=\"middle\" x=\"180\" y=\"-14.3\" font-family=\"Helvetica,sans-Serif\" font-size=\"14.00\">(...)</text>\n</g>\n<!-- 24&#45;&gt;25 -->\n<g id=\"edge7\" class=\"edge\">\n<title>24&#45;&gt;25</title>\n<path fill=\"none\" stroke=\"black\" d=\"M205.88,-72C201.63,-63.28 197.09,-53.98 193.02,-45.65\"/>\n<polygon fill=\"black\" stroke=\"black\" points=\"196.03,-43.85 188.5,-36.4 189.74,-46.93 196.03,-43.85\"/>\n</g>\n<!-- 26 -->\n<g id=\"node9\" class=\"node\">\n<title>26</title>\n<polygon fill=\"none\" stroke=\"black\" points=\"279,-36 225,-36 225,0 279,0 279,-36\"/>\n<text text-anchor=\"middle\" x=\"252\" y=\"-14.3\" font-family=\"Helvetica,sans-Serif\" font-size=\"14.00\">(...)</text>\n</g>\n<!-- 24&#45;&gt;26 -->\n<g id=\"edge8\" class=\"edge\">\n<title>24&#45;&gt;26</title>\n<path fill=\"none\" stroke=\"black\" d=\"M233.51,-72C236.52,-63.38 239.73,-54.19 242.61,-45.92\"/>\n<polygon fill=\"black\" stroke=\"black\" points=\"245.94,-47 245.93,-36.4 239.33,-44.69 245.94,-47\"/>\n</g>\n<!-- 30 -->\n<g id=\"node11\" class=\"node\">\n<title>30</title>\n<polygon fill=\"none\" stroke=\"black\" points=\"406,-140 296,-140 296,-72 406,-72 406,-140\"/>\n<text text-anchor=\"middle\" x=\"351\" y=\"-124.8\" font-family=\"Helvetica,sans-Serif\" font-size=\"14.00\">x[4] &lt;= 301.0</text>\n<text text-anchor=\"middle\" x=\"351\" y=\"-109.8\" font-family=\"Helvetica,sans-Serif\" font-size=\"14.00\">gini = 0.494</text>\n<text text-anchor=\"middle\" x=\"351\" y=\"-94.8\" font-family=\"Helvetica,sans-Serif\" font-size=\"14.00\">samples = 94</text>\n<text text-anchor=\"middle\" x=\"351\" y=\"-79.8\" font-family=\"Helvetica,sans-Serif\" font-size=\"14.00\">value = [42, 52]</text>\n</g>\n<!-- 29&#45;&gt;30 -->\n<g id=\"edge10\" class=\"edge\">\n<title>29&#45;&gt;30</title>\n<path fill=\"none\" stroke=\"black\" d=\"M387.47,-175.88C382.99,-167.42 378.11,-158.21 373.42,-149.35\"/>\n<polygon fill=\"black\" stroke=\"black\" points=\"376.4,-147.5 368.63,-140.3 370.21,-150.77 376.4,-147.5\"/>\n</g>\n<!-- 95 -->\n<g id=\"node14\" class=\"node\">\n<title>95</title>\n<polygon fill=\"none\" stroke=\"black\" points=\"526,-140 424,-140 424,-72 526,-72 526,-140\"/>\n<text text-anchor=\"middle\" x=\"475\" y=\"-124.8\" font-family=\"Helvetica,sans-Serif\" font-size=\"14.00\">x[4] &lt;= 331.0</text>\n<text text-anchor=\"middle\" x=\"475\" y=\"-109.8\" font-family=\"Helvetica,sans-Serif\" font-size=\"14.00\">gini = 0.111</text>\n<text text-anchor=\"middle\" x=\"475\" y=\"-94.8\" font-family=\"Helvetica,sans-Serif\" font-size=\"14.00\">samples = 17</text>\n<text text-anchor=\"middle\" x=\"475\" y=\"-79.8\" font-family=\"Helvetica,sans-Serif\" font-size=\"14.00\">value = [16, 1]</text>\n</g>\n<!-- 29&#45;&gt;95 -->\n<g id=\"edge13\" class=\"edge\">\n<title>29&#45;&gt;95</title>\n<path fill=\"none\" stroke=\"black\" d=\"M427.73,-175.88C433.66,-167.24 440.12,-157.82 446.32,-148.79\"/>\n<polygon fill=\"black\" stroke=\"black\" points=\"449.37,-150.52 452.15,-140.3 443.6,-146.56 449.37,-150.52\"/>\n</g>\n<!-- 31 -->\n<g id=\"node12\" class=\"node\">\n<title>31</title>\n<polygon fill=\"none\" stroke=\"black\" points=\"355,-36 301,-36 301,0 355,0 355,-36\"/>\n<text text-anchor=\"middle\" x=\"328\" y=\"-14.3\" font-family=\"Helvetica,sans-Serif\" font-size=\"14.00\">(...)</text>\n</g>\n<!-- 30&#45;&gt;31 -->\n<g id=\"edge11\" class=\"edge\">\n<title>30&#45;&gt;31</title>\n<path fill=\"none\" stroke=\"black\" d=\"M342.17,-72C339.89,-63.47 337.46,-54.39 335.27,-46.2\"/>\n<polygon fill=\"black\" stroke=\"black\" points=\"338.62,-45.16 332.65,-36.4 331.86,-46.97 338.62,-45.16\"/>\n</g>\n<!-- 48 -->\n<g id=\"node13\" class=\"node\">\n<title>48</title>\n<polygon fill=\"none\" stroke=\"black\" points=\"427,-36 373,-36 373,0 427,0 427,-36\"/>\n<text text-anchor=\"middle\" x=\"400\" y=\"-14.3\" font-family=\"Helvetica,sans-Serif\" font-size=\"14.00\">(...)</text>\n</g>\n<!-- 30&#45;&gt;48 -->\n<g id=\"edge12\" class=\"edge\">\n<title>30&#45;&gt;48</title>\n<path fill=\"none\" stroke=\"black\" d=\"M369.8,-72C374.88,-63.09 380.3,-53.58 385.12,-45.11\"/>\n<polygon fill=\"black\" stroke=\"black\" points=\"388.17,-46.82 390.08,-36.4 382.09,-43.36 388.17,-46.82\"/>\n</g>\n<!-- 96 -->\n<g id=\"node15\" class=\"node\">\n<title>96</title>\n<polygon fill=\"none\" stroke=\"black\" points=\"501,-36 447,-36 447,0 501,0 501,-36\"/>\n<text text-anchor=\"middle\" x=\"474\" y=\"-14.3\" font-family=\"Helvetica,sans-Serif\" font-size=\"14.00\">(...)</text>\n</g>\n<!-- 95&#45;&gt;96 -->\n<g id=\"edge14\" class=\"edge\">\n<title>95&#45;&gt;96</title>\n<path fill=\"none\" stroke=\"black\" d=\"M474.62,-72C474.52,-63.56 474.41,-54.59 474.32,-46.47\"/>\n<polygon fill=\"black\" stroke=\"black\" points=\"477.82,-46.36 474.2,-36.4 470.82,-46.44 477.82,-46.36\"/>\n</g>\n<!-- 99 -->\n<g id=\"node16\" class=\"node\">\n<title>99</title>\n<polygon fill=\"none\" stroke=\"black\" points=\"573,-36 519,-36 519,0 573,0 573,-36\"/>\n<text text-anchor=\"middle\" x=\"546\" y=\"-14.3\" font-family=\"Helvetica,sans-Serif\" font-size=\"14.00\">(...)</text>\n</g>\n<!-- 95&#45;&gt;99 -->\n<g id=\"edge15\" class=\"edge\">\n<title>95&#45;&gt;99</title>\n<path fill=\"none\" stroke=\"black\" d=\"M502.25,-72C509.83,-62.81 517.95,-52.97 525.11,-44.3\"/>\n<polygon fill=\"black\" stroke=\"black\" points=\"527.96,-46.34 531.63,-36.4 522.57,-41.89 527.96,-46.34\"/>\n</g>\n<!-- 101 -->\n<g id=\"node18\" class=\"node\">\n<title>101</title>\n<polygon fill=\"none\" stroke=\"black\" points=\"712,-244 602,-244 602,-176 712,-176 712,-244\"/>\n<text text-anchor=\"middle\" x=\"657\" y=\"-228.8\" font-family=\"Helvetica,sans-Serif\" font-size=\"14.00\">x[3] &lt;= 19.75</text>\n<text text-anchor=\"middle\" x=\"657\" y=\"-213.8\" font-family=\"Helvetica,sans-Serif\" font-size=\"14.00\">gini = 0.498</text>\n<text text-anchor=\"middle\" x=\"657\" y=\"-198.8\" font-family=\"Helvetica,sans-Serif\" font-size=\"14.00\">samples = 72</text>\n<text text-anchor=\"middle\" x=\"657\" y=\"-183.8\" font-family=\"Helvetica,sans-Serif\" font-size=\"14.00\">value = [38, 34]</text>\n</g>\n<!-- 100&#45;&gt;101 -->\n<g id=\"edge17\" class=\"edge\">\n<title>100&#45;&gt;101</title>\n<path fill=\"none\" stroke=\"black\" d=\"M657,-279.88C657,-271.78 657,-262.98 657,-254.47\"/>\n<polygon fill=\"black\" stroke=\"black\" points=\"660.5,-254.3 657,-244.3 653.5,-254.3 660.5,-254.3\"/>\n</g>\n<!-- 144 -->\n<g id=\"node23\" class=\"node\">\n<title>144</title>\n<polygon fill=\"none\" stroke=\"black\" points=\"909.5,-244 792.5,-244 792.5,-176 909.5,-176 909.5,-244\"/>\n<text text-anchor=\"middle\" x=\"851\" y=\"-228.8\" font-family=\"Helvetica,sans-Serif\" font-size=\"14.00\">x[4] &lt;= 573.5</text>\n<text text-anchor=\"middle\" x=\"851\" y=\"-213.8\" font-family=\"Helvetica,sans-Serif\" font-size=\"14.00\">gini = 0.248</text>\n<text text-anchor=\"middle\" x=\"851\" y=\"-198.8\" font-family=\"Helvetica,sans-Serif\" font-size=\"14.00\">samples = 352</text>\n<text text-anchor=\"middle\" x=\"851\" y=\"-183.8\" font-family=\"Helvetica,sans-Serif\" font-size=\"14.00\">value = [301, 51]</text>\n</g>\n<!-- 100&#45;&gt;144 -->\n<g id=\"edge22\" class=\"edge\">\n<title>100&#45;&gt;144</title>\n<path fill=\"none\" stroke=\"black\" d=\"M715.73,-282.12C737.1,-270.89 761.42,-258.1 783.49,-246.5\"/>\n<polygon fill=\"black\" stroke=\"black\" points=\"785.24,-249.53 792.47,-241.78 781.99,-243.33 785.24,-249.53\"/>\n</g>\n<!-- 102 -->\n<g id=\"node19\" class=\"node\">\n<title>102</title>\n<polygon fill=\"none\" stroke=\"black\" points=\"646,-132.5 544,-132.5 544,-79.5 646,-79.5 646,-132.5\"/>\n<text text-anchor=\"middle\" x=\"595\" y=\"-117.3\" font-family=\"Helvetica,sans-Serif\" font-size=\"14.00\">gini = 0.0</text>\n<text text-anchor=\"middle\" x=\"595\" y=\"-102.3\" font-family=\"Helvetica,sans-Serif\" font-size=\"14.00\">samples = 11</text>\n<text text-anchor=\"middle\" x=\"595\" y=\"-87.3\" font-family=\"Helvetica,sans-Serif\" font-size=\"14.00\">value = [11, 0]</text>\n</g>\n<!-- 101&#45;&gt;102 -->\n<g id=\"edge18\" class=\"edge\">\n<title>101&#45;&gt;102</title>\n<path fill=\"none\" stroke=\"black\" d=\"M636.87,-175.88C630.12,-164.78 622.58,-152.37 615.78,-141.18\"/>\n<polygon fill=\"black\" stroke=\"black\" points=\"618.7,-139.25 610.51,-132.52 612.72,-142.88 618.7,-139.25\"/>\n</g>\n<!-- 103 -->\n<g id=\"node20\" class=\"node\">\n<title>103</title>\n<polygon fill=\"none\" stroke=\"black\" points=\"774,-140 664,-140 664,-72 774,-72 774,-140\"/>\n<text text-anchor=\"middle\" x=\"719\" y=\"-124.8\" font-family=\"Helvetica,sans-Serif\" font-size=\"14.00\">x[4] &lt;= 49.5</text>\n<text text-anchor=\"middle\" x=\"719\" y=\"-109.8\" font-family=\"Helvetica,sans-Serif\" font-size=\"14.00\">gini = 0.493</text>\n<text text-anchor=\"middle\" x=\"719\" y=\"-94.8\" font-family=\"Helvetica,sans-Serif\" font-size=\"14.00\">samples = 61</text>\n<text text-anchor=\"middle\" x=\"719\" y=\"-79.8\" font-family=\"Helvetica,sans-Serif\" font-size=\"14.00\">value = [27, 34]</text>\n</g>\n<!-- 101&#45;&gt;103 -->\n<g id=\"edge19\" class=\"edge\">\n<title>101&#45;&gt;103</title>\n<path fill=\"none\" stroke=\"black\" d=\"M677.13,-175.88C682.33,-167.33 687.99,-158.01 693.43,-149.07\"/>\n<polygon fill=\"black\" stroke=\"black\" points=\"696.56,-150.66 698.76,-140.3 690.57,-147.03 696.56,-150.66\"/>\n</g>\n<!-- 104 -->\n<g id=\"node21\" class=\"node\">\n<title>104</title>\n<polygon fill=\"none\" stroke=\"black\" points=\"680,-36 626,-36 626,0 680,0 680,-36\"/>\n<text text-anchor=\"middle\" x=\"653\" y=\"-14.3\" font-family=\"Helvetica,sans-Serif\" font-size=\"14.00\">(...)</text>\n</g>\n<!-- 103&#45;&gt;104 -->\n<g id=\"edge20\" class=\"edge\">\n<title>103&#45;&gt;104</title>\n<path fill=\"none\" stroke=\"black\" d=\"M693.67,-72C686.69,-62.9 679.23,-53.18 672.62,-44.57\"/>\n<polygon fill=\"black\" stroke=\"black\" points=\"675.22,-42.21 666.36,-36.4 669.67,-46.47 675.22,-42.21\"/>\n</g>\n<!-- 123 -->\n<g id=\"node22\" class=\"node\">\n<title>123</title>\n<polygon fill=\"none\" stroke=\"black\" points=\"752,-36 698,-36 698,0 752,0 752,-36\"/>\n<text text-anchor=\"middle\" x=\"725\" y=\"-14.3\" font-family=\"Helvetica,sans-Serif\" font-size=\"14.00\">(...)</text>\n</g>\n<!-- 103&#45;&gt;123 -->\n<g id=\"edge21\" class=\"edge\">\n<title>103&#45;&gt;123</title>\n<path fill=\"none\" stroke=\"black\" d=\"M721.3,-72C721.89,-63.56 722.52,-54.59 723.08,-46.47\"/>\n<polygon fill=\"black\" stroke=\"black\" points=\"726.58,-46.62 723.79,-36.4 719.6,-46.14 726.58,-46.62\"/>\n</g>\n<!-- 145 -->\n<g id=\"node24\" class=\"node\">\n<title>145</title>\n<polygon fill=\"none\" stroke=\"black\" points=\"909.5,-140 792.5,-140 792.5,-72 909.5,-72 909.5,-140\"/>\n<text text-anchor=\"middle\" x=\"851\" y=\"-124.8\" font-family=\"Helvetica,sans-Serif\" font-size=\"14.00\">x[4] &lt;= 238.5</text>\n<text text-anchor=\"middle\" x=\"851\" y=\"-109.8\" font-family=\"Helvetica,sans-Serif\" font-size=\"14.00\">gini = 0.197</text>\n<text text-anchor=\"middle\" x=\"851\" y=\"-94.8\" font-family=\"Helvetica,sans-Serif\" font-size=\"14.00\">samples = 280</text>\n<text text-anchor=\"middle\" x=\"851\" y=\"-79.8\" font-family=\"Helvetica,sans-Serif\" font-size=\"14.00\">value = [249, 31]</text>\n</g>\n<!-- 144&#45;&gt;145 -->\n<g id=\"edge23\" class=\"edge\">\n<title>144&#45;&gt;145</title>\n<path fill=\"none\" stroke=\"black\" d=\"M851,-175.88C851,-167.78 851,-158.98 851,-150.47\"/>\n<polygon fill=\"black\" stroke=\"black\" points=\"854.5,-150.3 851,-140.3 847.5,-150.3 854.5,-150.3\"/>\n</g>\n<!-- 236 -->\n<g id=\"node27\" class=\"node\">\n<title>236</title>\n<polygon fill=\"none\" stroke=\"black\" points=\"1038,-140 928,-140 928,-72 1038,-72 1038,-140\"/>\n<text text-anchor=\"middle\" x=\"983\" y=\"-124.8\" font-family=\"Helvetica,sans-Serif\" font-size=\"14.00\">x[4] &lt;= 587.5</text>\n<text text-anchor=\"middle\" x=\"983\" y=\"-109.8\" font-family=\"Helvetica,sans-Serif\" font-size=\"14.00\">gini = 0.401</text>\n<text text-anchor=\"middle\" x=\"983\" y=\"-94.8\" font-family=\"Helvetica,sans-Serif\" font-size=\"14.00\">samples = 72</text>\n<text text-anchor=\"middle\" x=\"983\" y=\"-79.8\" font-family=\"Helvetica,sans-Serif\" font-size=\"14.00\">value = [52, 20]</text>\n</g>\n<!-- 144&#45;&gt;236 -->\n<g id=\"edge26\" class=\"edge\">\n<title>144&#45;&gt;236</title>\n<path fill=\"none\" stroke=\"black\" d=\"M893.86,-175.88C905.96,-166.53 919.25,-156.26 931.79,-146.57\"/>\n<polygon fill=\"black\" stroke=\"black\" points=\"934.13,-149.18 939.91,-140.3 929.85,-143.64 934.13,-149.18\"/>\n</g>\n<!-- 146 -->\n<g id=\"node25\" class=\"node\">\n<title>146</title>\n<polygon fill=\"none\" stroke=\"black\" points=\"848,-36 794,-36 794,0 848,0 848,-36\"/>\n<text text-anchor=\"middle\" x=\"821\" y=\"-14.3\" font-family=\"Helvetica,sans-Serif\" font-size=\"14.00\">(...)</text>\n</g>\n<!-- 145&#45;&gt;146 -->\n<g id=\"edge24\" class=\"edge\">\n<title>145&#45;&gt;146</title>\n<path fill=\"none\" stroke=\"black\" d=\"M839.49,-72C836.48,-63.38 833.27,-54.19 830.39,-45.92\"/>\n<polygon fill=\"black\" stroke=\"black\" points=\"833.67,-44.69 827.07,-36.4 827.06,-47 833.67,-44.69\"/>\n</g>\n<!-- 185 -->\n<g id=\"node26\" class=\"node\">\n<title>185</title>\n<polygon fill=\"none\" stroke=\"black\" points=\"920,-36 866,-36 866,0 920,0 920,-36\"/>\n<text text-anchor=\"middle\" x=\"893\" y=\"-14.3\" font-family=\"Helvetica,sans-Serif\" font-size=\"14.00\">(...)</text>\n</g>\n<!-- 145&#45;&gt;185 -->\n<g id=\"edge25\" class=\"edge\">\n<title>145&#45;&gt;185</title>\n<path fill=\"none\" stroke=\"black\" d=\"M867.12,-72C871.37,-63.28 875.91,-53.98 879.98,-45.65\"/>\n<polygon fill=\"black\" stroke=\"black\" points=\"883.26,-46.93 884.5,-36.4 876.97,-43.85 883.26,-46.93\"/>\n</g>\n<!-- 237 -->\n<g id=\"node28\" class=\"node\">\n<title>237</title>\n<polygon fill=\"none\" stroke=\"black\" points=\"1004,-36 950,-36 950,0 1004,0 1004,-36\"/>\n<text text-anchor=\"middle\" x=\"977\" y=\"-14.3\" font-family=\"Helvetica,sans-Serif\" font-size=\"14.00\">(...)</text>\n</g>\n<!-- 236&#45;&gt;237 -->\n<g id=\"edge27\" class=\"edge\">\n<title>236&#45;&gt;237</title>\n<path fill=\"none\" stroke=\"black\" d=\"M980.7,-72C980.11,-63.56 979.48,-54.59 978.92,-46.47\"/>\n<polygon fill=\"black\" stroke=\"black\" points=\"982.4,-46.14 978.21,-36.4 975.42,-46.62 982.4,-46.14\"/>\n</g>\n<!-- 244 -->\n<g id=\"node29\" class=\"node\">\n<title>244</title>\n<polygon fill=\"none\" stroke=\"black\" points=\"1076,-36 1022,-36 1022,0 1076,0 1076,-36\"/>\n<text text-anchor=\"middle\" x=\"1049\" y=\"-14.3\" font-family=\"Helvetica,sans-Serif\" font-size=\"14.00\">(...)</text>\n</g>\n<!-- 236&#45;&gt;244 -->\n<g id=\"edge28\" class=\"edge\">\n<title>236&#45;&gt;244</title>\n<path fill=\"none\" stroke=\"black\" d=\"M1008.33,-72C1015.31,-62.9 1022.77,-53.18 1029.38,-44.57\"/>\n<polygon fill=\"black\" stroke=\"black\" points=\"1032.33,-46.47 1035.64,-36.4 1026.78,-42.21 1032.33,-46.47\"/>\n</g>\n</g>\n</svg>\n",
            "text/plain": [
              "<graphviz.sources.Source at 0x7b4637b46a10>"
            ]
          },
          "metadata": {},
          "execution_count": 26
        }
      ]
    },
    {
      "cell_type": "code",
      "source": [
        "# Change the decision tree parameters\n",
        "tree_model_2 = DecisionTreeClassifier(\n",
        "    criterion=\"gini\",\n",
        "    splitter=\"random\",\n",
        "    max_leaf_nodes=10,\n",
        "    min_samples_leaf=4,\n",
        "    max_depth=4)\n",
        "tree_model_2.fit(x_train, y_train)\n",
        "y_pred = tree_model_2.predict(x_test)\n",
        "score2 = accuracy_score(y_test, y_pred)\n",
        "score2\n"
      ],
      "metadata": {
        "colab": {
          "base_uri": "https://localhost:8080/"
        },
        "id": "d3Yjw4r3J0xw",
        "outputId": "542c98a0-85e4-469e-dfca-e8a59f01cb37"
      },
      "execution_count": null,
      "outputs": [
        {
          "output_type": "execute_result",
          "data": {
            "text/plain": [
              "0.8071748878923767"
            ]
          },
          "metadata": {},
          "execution_count": 27
        }
      ]
    },
    {
      "cell_type": "code",
      "source": [
        "print(f\"Decision tree Accuracy Score = {DT_accuracy}\\nAccuracy Score after changing parameters = {score2}.\")"
      ],
      "metadata": {
        "colab": {
          "base_uri": "https://localhost:8080/"
        },
        "id": "vdPf76cRm8nW",
        "outputId": "2d49aa45-32e0-4e26-dc83-03efb57bdf68"
      },
      "execution_count": null,
      "outputs": [
        {
          "output_type": "stream",
          "name": "stdout",
          "text": [
            "Decision tree Accuracy Score = 0.7668161434977578\n",
            "Accuracy Score after changing parameters = 0.8071748878923767.\n"
          ]
        }
      ]
    },
    {
      "cell_type": "markdown",
      "source": [
        "* ==> By carefully tuning the hyperparameters we've managed to achieve a higher accuracy compared to the previous configuration.* *italicized text*\n",
        "\n"
      ],
      "metadata": {
        "id": "1HRecKSfOOck"
      }
    },
    {
      "cell_type": "markdown",
      "source": [
        "**--------Random Forest----------**"
      ],
      "metadata": {
        "id": "LsUqFZoRlg8b"
      }
    },
    {
      "cell_type": "code",
      "source": [
        "from sklearn.ensemble import RandomForestClassifier\n",
        "\n",
        "# First Random Forest model with 100 estimators\n",
        "rf_model1 = RandomForestClassifier(n_estimators=10)\n",
        "rf_model1.fit(x_train, y_train)\n",
        "y_pred1 = rf_model1.predict(x_test)\n",
        "RF_score1 = accuracy_score(y_test, y_pred1)\n",
        "print(f\"Accuracy Score (100 estimators): {RF_score1:.4f}\")\n",
        "\n",
        "# Second Random Forest model with 200 estimators\n",
        "rf_model2 = RandomForestClassifier(n_estimators=50)\n",
        "rf_model2.fit(x_train, y_train)\n",
        "y_pred2 = rf_model2.predict(x_test)\n",
        "RF_score2 = accuracy_score(y_test, y_pred2)\n",
        "print(f\"Accuracy Score (200 estimators): {RF_score2:.4f}\")"
      ],
      "metadata": {
        "colab": {
          "base_uri": "https://localhost:8080/"
        },
        "id": "RI4aZpMHphNl",
        "outputId": "b9b13282-2205-456a-c0e0-99f692044296"
      },
      "execution_count": null,
      "outputs": [
        {
          "output_type": "stream",
          "name": "stdout",
          "text": [
            "Accuracy Score (100 estimators): 0.7982\n",
            "Accuracy Score (200 estimators): 0.8117\n"
          ]
        }
      ]
    },
    {
      "cell_type": "markdown",
      "source": [
        "# Making a summary graph which resume all accuracies of each model(logistic regression, knn , Decision tree and random forest)"
      ],
      "metadata": {
        "id": "oOyilW0pV6Q6"
      }
    },
    {
      "cell_type": "code",
      "source": [
        "# Create a dictionary with model scores\n",
        "model_scores = {\n",
        "    \"Logistic Regression\": LR_score,\n",
        "    \"KNN\": KNN_score,\n",
        "    \"Decision Tree\": score2,\n",
        "    \"Random Forest (10 estimators)\": RF_score1\n",
        "}\n",
        "\n",
        "# Convert the dictionary into a DataFrame\n",
        "model_compare = pd.DataFrame(model_scores, index=[\"accuracy\"])\n",
        "\n",
        "# Create a bar plot\n",
        "ax = model_compare.T.plot.bar()\n",
        "plt.title(\"Model Comparison\")\n",
        "plt.ylabel(\"Accuracy\")\n",
        "plt.xlabel(\"Models\")\n",
        "plt.ylim(0, 1)  # Set y-axis limit for better visualization\n",
        "plt.legend([\"Accuracy\"])\n",
        "\n",
        "# Add accuracy values on top of the bars\n",
        "for i, v in enumerate(model_compare.T[\"accuracy\"]):\n",
        "    ax.text(i, v + 0.02, f\"{v:.4f}\", ha=\"center\")\n",
        "\n",
        "plt.show()"
      ],
      "metadata": {
        "colab": {
          "base_uri": "https://localhost:8080/",
          "height": 674
        },
        "id": "dUwI7SixujSP",
        "outputId": "e20ee125-9285-4d41-f626-5ab1fa7a0da4"
      },
      "execution_count": null,
      "outputs": [
        {
          "output_type": "display_data",
          "data": {
            "text/plain": [
              "<Figure size 640x480 with 1 Axes>"
            ],
            "image/png": "[encoded data removed]"
          },
          "metadata": {}
        }
      ]
    },
    {
      "cell_type": "code",
      "source": [
        "print(f\"Logistic Regression: {LR_score:.4f}\")\n",
        "print(f\"KNN: {KNN_score:.4f}\")\n",
        "print(f\"Decision Tree: {score2:.4f}\")\n",
        "print(f\"Random Forest: {RF_score1:.4f}\")"
      ],
      "metadata": {
        "colab": {
          "base_uri": "https://localhost:8080/",
          "height": 105
        },
        "id": "3ImyM-xVj4zb",
        "outputId": "845ce449-024b-43b1-98f7-5238a72b5e49"
      },
      "execution_count": null,
      "outputs": [
        {
          "output_type": "stream",
          "name": "stdout",
          "text": [
            "Logistic Regression: 0.8161\n",
            "KNN: 0.6413\n",
            "Decision Tree: 0.8072\n",
            "Random Forest: 0.7982\n"
          ]
        },
        {
          "output_type": "execute_result",
          "data": {
            "text/plain": [
              "''"
            ],
            "application/vnd.google.colaboratory.intrinsic+json": {
              "type": "string"
            }
          },
          "metadata": {},
          "execution_count": 40
        }
      ]
    },
    {
      "cell_type": "markdown",
      "source": [
        "==> It's evident that the Logistic Regression model achieved the highest accuracy, showcasing its strong predictive capability. While Random Forest and Decision Tree models follow closely, the clear advantage of Logistic Regression in accuracy suggests its superior performance on this dataset."
      ],
      "metadata": {
        "id": "HEtWucx0k8ry"
      }
    }
  ]
}